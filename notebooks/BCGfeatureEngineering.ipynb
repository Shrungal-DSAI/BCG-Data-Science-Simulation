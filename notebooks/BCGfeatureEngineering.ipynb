{
 "cells": [
  {
   "cell_type": "code",
   "execution_count": 4,
   "id": "73135fb8-b0d0-4332-87ed-a6f0ddebadd6",
   "metadata": {},
   "outputs": [
    {
     "name": "stdout",
     "output_type": "stream",
     "text": [
      "Feature engineering completed and saved to processed_data.csv\n"
     ]
    }
   ],
   "source": [
    "import pandas as pd\n",
    "\n",
    "# Load the dataset\n",
    "df = pd.read_csv(\"C:/Users/Admin/Downloads/clean_data_after_eda.csv\")\n",
    "\n",
    "# Convert date columns to datetime\n",
    "date_cols = ['date_activ', 'date_end']\n",
    "df[date_cols] = df[date_cols].apply(pd.to_datetime, format='%Y-%m-%d')\n",
    "\n",
    "# Create tenure feature\n",
    "df['customer_tenure_days'] = (df['date_end'] - df['date_activ']).dt.days\n",
    "\n",
    "# Drop unnecessary columns\n",
    "drop_cols = ['id', 'date_modif_prod', 'date_renewal']\n",
    "df.drop(columns=drop_cols, inplace=True)\n",
    "\n",
    "# Feature Engineering\n",
    "# Consumption trends\n",
    "df['consumption_ratio'] = df['cons_last_month'] / (df['cons_12m'] + 1)\n",
    "df['forecast_deviation'] = df['forecast_cons_12m'] - df['cons_12m']\n",
    "\n",
    "# Price sensitivity\n",
    "df['price_peak_vs_offpeak'] = df['forecast_price_energy_peak'] / (df['forecast_price_energy_off_peak'] + 1)\n",
    "df['avg_yearly_price_var'] = df[['var_year_price_off_peak', 'var_year_price_peak', 'var_year_price_mid_peak']].mean(axis=1)\n",
    "df['avg_6m_price_var'] = df[['var_6m_price_off_peak', 'var_6m_price_peak', 'var_6m_price_mid_peak']].mean(axis=1)\n",
    "\n",
    "# Profitability metrics\n",
    "df['profitability_ratio'] = df['margin_net_pow_ele'] / (df['margin_gross_pow_ele'] + 1)\n",
    "df['power_demand_per_product'] = df['pow_max'] * df['nb_prod_act']\n",
    "\n",
    "# Handling missing values\n",
    "df.fillna(df.median(numeric_only=True), inplace=True)\n",
    "df['channel_sales'] = df['channel_sales'].fillna('Unknown')\n",
    "df['origin_up'] = df['origin_up'].fillna('Unknown')\n",
    "\n",
    "# Save the processed dataset\n",
    "df.to_csv(\"C:/Users/Admin/Downloads/processed_data.csv\", index=False)\n",
    "\n",
    "print(\"Feature engineering completed and saved to processed_data.csv\")"
   ]
  },
  {
   "cell_type": "code",
   "execution_count": null,
   "id": "1101e535-6436-4b60-af32-c67e49773320",
   "metadata": {},
   "outputs": [],
   "source": []
  }
 ],
 "metadata": {
  "kernelspec": {
   "display_name": "Python 3 (ipykernel)",
   "language": "python",
   "name": "python3"
  },
  "language_info": {
   "codemirror_mode": {
    "name": "ipython",
    "version": 3
   },
   "file_extension": ".py",
   "mimetype": "text/x-python",
   "name": "python",
   "nbconvert_exporter": "python",
   "pygments_lexer": "ipython3",
   "version": "3.12.7"
  }
 },
 "nbformat": 4,
 "nbformat_minor": 5
}
